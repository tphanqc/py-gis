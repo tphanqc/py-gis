{
 "cells": [
  {
   "cell_type": "code",
   "execution_count": 2,
   "id": "e2145820",
   "metadata": {},
   "outputs": [],
   "source": [
    "import json\n",
    "import argparse\n",
    "import re \n",
    "from feature_collection import VFeaturesCollection\n",
    "from urllib.request import urlopen\n",
    "from shapely.geometry import LineString,Point, shape\n",
    "import math\n",
    "from utils import *\n"
   ]
  },
  {
   "cell_type": "code",
   "execution_count": 13,
   "id": "082f15e9",
   "metadata": {},
   "outputs": [],
   "source": [
    "def mid_points (json_data):\n",
    "    mid_points = []\n",
    "    vfeatures_collection = VFeaturesCollection(json_data)\n",
    "    mid_points = vfeatures_collection.mid_points()\n",
    "    return mid_points\n",
    "\n",
    "\n",
    "        "
   ]
  },
  {
   "cell_type": "code",
   "execution_count": 18,
   "id": "346092b7",
   "metadata": {},
   "outputs": [],
   "source": [
    "json_file = 'sample2.json'\n",
    "url = 'https://gitlab.com/florin.alexandrescu/interview-json/-/raw/main/chicago.json'\n",
    "\n",
    "# uncomment the right source for testing. \n",
    "json_data = read_json_file(json_file)\n",
    "#json_data = read_json_url(url)\n",
    "\n",
    "midpoints = mid_points(json_data)"
   ]
  },
  {
   "cell_type": "code",
   "execution_count": 19,
   "id": "a03abe4d",
   "metadata": {},
   "outputs": [
    {
     "data": {
      "text/plain": [
       "[[-87.66570568084717, 41.83402976883597]]"
      ]
     },
     "execution_count": 19,
     "metadata": {},
     "output_type": "execute_result"
    }
   ],
   "source": [
    "midpoints"
   ]
  },
  {
   "cell_type": "code",
   "execution_count": null,
   "id": "b2694f52",
   "metadata": {},
   "outputs": [],
   "source": []
  },
  {
   "cell_type": "code",
   "execution_count": null,
   "id": "1e214c7e",
   "metadata": {},
   "outputs": [],
   "source": []
  }
 ],
 "metadata": {
  "kernelspec": {
   "display_name": "Python 3 (ipykernel)",
   "language": "python",
   "name": "python3"
  },
  "language_info": {
   "codemirror_mode": {
    "name": "ipython",
    "version": 3
   },
   "file_extension": ".py",
   "mimetype": "text/x-python",
   "name": "python",
   "nbconvert_exporter": "python",
   "pygments_lexer": "ipython3",
   "version": "3.8.12"
  }
 },
 "nbformat": 4,
 "nbformat_minor": 5
}
